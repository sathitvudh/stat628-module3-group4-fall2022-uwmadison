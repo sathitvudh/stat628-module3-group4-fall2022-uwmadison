{
 "cells": [
  {
   "cell_type": "code",
   "execution_count": 12,
   "id": "4c8703fc",
   "metadata": {},
   "outputs": [],
   "source": [
    "import numpy as np\n",
    "import pandas as pd\n",
    "import scipy.stats"
   ]
  },
  {
   "cell_type": "code",
   "execution_count": 68,
   "id": "dfb6cbf7",
   "metadata": {},
   "outputs": [],
   "source": [
    "final_df = pd.read_csv(\"../../code/Shiny/final_review_sentiment.csv\").drop(columns=[\"Unnamed: 0\"])"
   ]
  },
  {
   "cell_type": "code",
   "execution_count": 69,
   "id": "f3998bc3",
   "metadata": {},
   "outputs": [
    {
     "data": {
      "text/html": [
       "<div>\n",
       "<style scoped>\n",
       "    .dataframe tbody tr th:only-of-type {\n",
       "        vertical-align: middle;\n",
       "    }\n",
       "\n",
       "    .dataframe tbody tr th {\n",
       "        vertical-align: top;\n",
       "    }\n",
       "\n",
       "    .dataframe thead th {\n",
       "        text-align: right;\n",
       "    }\n",
       "</style>\n",
       "<table border=\"1\" class=\"dataframe\">\n",
       "  <thead>\n",
       "    <tr style=\"text-align: right;\">\n",
       "      <th></th>\n",
       "      <th>business_id</th>\n",
       "      <th>stars</th>\n",
       "      <th>positive_count</th>\n",
       "      <th>negative_count</th>\n",
       "      <th>sentiment_score_%</th>\n",
       "      <th>keyword</th>\n",
       "      <th>group</th>\n",
       "    </tr>\n",
       "  </thead>\n",
       "  <tbody>\n",
       "    <tr>\n",
       "      <th>0</th>\n",
       "      <td>-BdYhP-12elmFV7oB1iv4A</td>\n",
       "      <td>5.0</td>\n",
       "      <td>7</td>\n",
       "      <td>0</td>\n",
       "      <td>100.000000</td>\n",
       "      <td>food</td>\n",
       "      <td>food</td>\n",
       "    </tr>\n",
       "    <tr>\n",
       "      <th>1</th>\n",
       "      <td>-e8RwknT5szoLk9uBZjzcw</td>\n",
       "      <td>4.0</td>\n",
       "      <td>1</td>\n",
       "      <td>0</td>\n",
       "      <td>100.000000</td>\n",
       "      <td>food</td>\n",
       "      <td>food</td>\n",
       "    </tr>\n",
       "    <tr>\n",
       "      <th>2</th>\n",
       "      <td>-ujBP1Dw0j1-Ffaz97-LXQ</td>\n",
       "      <td>4.0</td>\n",
       "      <td>33</td>\n",
       "      <td>1</td>\n",
       "      <td>97.058824</td>\n",
       "      <td>food</td>\n",
       "      <td>food</td>\n",
       "    </tr>\n",
       "    <tr>\n",
       "      <th>3</th>\n",
       "      <td>0CHIbqSkGWBr2KMkIUocEA</td>\n",
       "      <td>3.5</td>\n",
       "      <td>214</td>\n",
       "      <td>16</td>\n",
       "      <td>93.043478</td>\n",
       "      <td>food</td>\n",
       "      <td>food</td>\n",
       "    </tr>\n",
       "    <tr>\n",
       "      <th>4</th>\n",
       "      <td>0ac5lGA_0wdKDnib3y59Xg</td>\n",
       "      <td>4.0</td>\n",
       "      <td>117</td>\n",
       "      <td>4</td>\n",
       "      <td>96.694215</td>\n",
       "      <td>food</td>\n",
       "      <td>food</td>\n",
       "    </tr>\n",
       "    <tr>\n",
       "      <th>...</th>\n",
       "      <td>...</td>\n",
       "      <td>...</td>\n",
       "      <td>...</td>\n",
       "      <td>...</td>\n",
       "      <td>...</td>\n",
       "      <td>...</td>\n",
       "      <td>...</td>\n",
       "    </tr>\n",
       "    <tr>\n",
       "      <th>4722</th>\n",
       "      <td>ySRkAFddd1tCUzRDjbECdg</td>\n",
       "      <td>4.0</td>\n",
       "      <td>0</td>\n",
       "      <td>0</td>\n",
       "      <td>NaN</td>\n",
       "      <td>waitress</td>\n",
       "      <td>service</td>\n",
       "    </tr>\n",
       "    <tr>\n",
       "      <th>4723</th>\n",
       "      <td>ycbmvmBYk4w_ZmdrPL0tBQ</td>\n",
       "      <td>4.0</td>\n",
       "      <td>6</td>\n",
       "      <td>1</td>\n",
       "      <td>85.714286</td>\n",
       "      <td>waitress</td>\n",
       "      <td>service</td>\n",
       "    </tr>\n",
       "    <tr>\n",
       "      <th>4724</th>\n",
       "      <td>ywXa1pDqHPe9tOPx0yJFUg</td>\n",
       "      <td>3.0</td>\n",
       "      <td>0</td>\n",
       "      <td>0</td>\n",
       "      <td>NaN</td>\n",
       "      <td>waitress</td>\n",
       "      <td>service</td>\n",
       "    </tr>\n",
       "    <tr>\n",
       "      <th>4725</th>\n",
       "      <td>zbrIMldF_O1ZQ0vpUaaa8A</td>\n",
       "      <td>4.0</td>\n",
       "      <td>15</td>\n",
       "      <td>0</td>\n",
       "      <td>100.000000</td>\n",
       "      <td>waitress</td>\n",
       "      <td>service</td>\n",
       "    </tr>\n",
       "    <tr>\n",
       "      <th>4726</th>\n",
       "      <td>zkMqKD6IZPcU10g0a2APmg</td>\n",
       "      <td>4.5</td>\n",
       "      <td>0</td>\n",
       "      <td>0</td>\n",
       "      <td>NaN</td>\n",
       "      <td>waitress</td>\n",
       "      <td>service</td>\n",
       "    </tr>\n",
       "  </tbody>\n",
       "</table>\n",
       "<p>4727 rows × 7 columns</p>\n",
       "</div>"
      ],
      "text/plain": [
       "                 business_id  stars  positive_count  negative_count  \\\n",
       "0     -BdYhP-12elmFV7oB1iv4A    5.0               7               0   \n",
       "1     -e8RwknT5szoLk9uBZjzcw    4.0               1               0   \n",
       "2     -ujBP1Dw0j1-Ffaz97-LXQ    4.0              33               1   \n",
       "3     0CHIbqSkGWBr2KMkIUocEA    3.5             214              16   \n",
       "4     0ac5lGA_0wdKDnib3y59Xg    4.0             117               4   \n",
       "...                      ...    ...             ...             ...   \n",
       "4722  ySRkAFddd1tCUzRDjbECdg    4.0               0               0   \n",
       "4723  ycbmvmBYk4w_ZmdrPL0tBQ    4.0               6               1   \n",
       "4724  ywXa1pDqHPe9tOPx0yJFUg    3.0               0               0   \n",
       "4725  zbrIMldF_O1ZQ0vpUaaa8A    4.0              15               0   \n",
       "4726  zkMqKD6IZPcU10g0a2APmg    4.5               0               0   \n",
       "\n",
       "      sentiment_score_%   keyword    group  \n",
       "0            100.000000      food     food  \n",
       "1            100.000000      food     food  \n",
       "2             97.058824      food     food  \n",
       "3             93.043478      food     food  \n",
       "4             96.694215      food     food  \n",
       "...                 ...       ...      ...  \n",
       "4722                NaN  waitress  service  \n",
       "4723          85.714286  waitress  service  \n",
       "4724                NaN  waitress  service  \n",
       "4725         100.000000  waitress  service  \n",
       "4726                NaN  waitress  service  \n",
       "\n",
       "[4727 rows x 7 columns]"
      ]
     },
     "execution_count": 69,
     "metadata": {},
     "output_type": "execute_result"
    }
   ],
   "source": [
    "final_df"
   ]
  },
  {
   "cell_type": "markdown",
   "id": "9d97c710",
   "metadata": {},
   "source": [
    "### Pearson Correlation"
   ]
  },
  {
   "cell_type": "code",
   "execution_count": 70,
   "id": "d646194e",
   "metadata": {},
   "outputs": [],
   "source": [
    "def corr(keyword):\n",
    "    df = final_df[final_df[\"keyword\"] == keyword]\n",
    "    cat_df = df.dropna()\n",
    "    [r,p] = scipy.stats.pearsonr(cat_df[\"sentiment_score_%\"],cat_df[\"stars\"])\n",
    "    return [r,p]"
   ]
  },
  {
   "cell_type": "code",
   "execution_count": 71,
   "id": "0bbf3507",
   "metadata": {},
   "outputs": [
    {
     "data": {
      "text/plain": [
       "[0.26852242071860327, 0.0010921611522706962]"
      ]
     },
     "execution_count": 71,
     "metadata": {},
     "output_type": "execute_result"
    }
   ],
   "source": [
    "corr(\"food\")"
   ]
  },
  {
   "cell_type": "code",
   "execution_count": 72,
   "id": "08fb2a03",
   "metadata": {},
   "outputs": [],
   "source": [
    "keyword_list = ['food','drink','price','service','burger','seafood'\n",
    "                ,'salad','clam','chowder','crab','chicken','bread'\n",
    "                ,'chip','appetizer','taco','oyster','steak'\n",
    "                ,'pasta','lobster','wine','beer','cocktail','water'\n",
    "                ,'staff','table','reservation','waiter','bartender'\n",
    "                ,'waitress']\n",
    "\n",
    "keyword_stat_test = dict()\n",
    "\n",
    "for k in keyword_list:\n",
    "    pearson = corr(k)\n",
    "    if pearson[1] < 0.05:\n",
    "        keyword_stat_test[k] = (pearson[0],pearson[1])"
   ]
  },
  {
   "cell_type": "code",
   "execution_count": 73,
   "id": "f72a5bc6",
   "metadata": {},
   "outputs": [
    {
     "data": {
      "text/plain": [
       "{'food': (0.26852242071860327, 0.0010921611522706962),\n",
       " 'drink': (0.1678822474226579, 0.032726259160323824),\n",
       " 'service': (0.466046753209244, 1.1212934154321623e-09),\n",
       " 'burger': (0.3393901316474712, 0.005306719299638612),\n",
       " 'beer': (0.1839700645314536, 0.049051974161649414),\n",
       " 'staff': (0.28968835669908244, 0.0002443802297689922),\n",
       " 'table': (0.2000699596085591, 0.03204908662414199),\n",
       " 'waiter': (0.29211098091964427, 0.008996296877676316)}"
      ]
     },
     "execution_count": 73,
     "metadata": {},
     "output_type": "execute_result"
    }
   ],
   "source": [
    "keyword_stat_test"
   ]
  },
  {
   "cell_type": "code",
   "execution_count": null,
   "id": "c497f512",
   "metadata": {},
   "outputs": [],
   "source": []
  }
 ],
 "metadata": {
  "kernelspec": {
   "display_name": "Python 3 (ipykernel)",
   "language": "python",
   "name": "python3"
  },
  "language_info": {
   "codemirror_mode": {
    "name": "ipython",
    "version": 3
   },
   "file_extension": ".py",
   "mimetype": "text/x-python",
   "name": "python",
   "nbconvert_exporter": "python",
   "pygments_lexer": "ipython3",
   "version": "3.9.7"
  }
 },
 "nbformat": 4,
 "nbformat_minor": 5
}
