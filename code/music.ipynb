{
 "cells": [
  {
   "cell_type": "code",
   "execution_count": 1,
   "metadata": {},
   "outputs": [],
   "source": [
    "import pandas as pd\n",
    "import json\n",
    "import ast"
   ]
  },
  {
   "cell_type": "code",
   "execution_count": 2,
   "metadata": {},
   "outputs": [
    {
     "data": {
      "text/html": [
       "<div>\n",
       "<style scoped>\n",
       "    .dataframe tbody tr th:only-of-type {\n",
       "        vertical-align: middle;\n",
       "    }\n",
       "\n",
       "    .dataframe tbody tr th {\n",
       "        vertical-align: top;\n",
       "    }\n",
       "\n",
       "    .dataframe thead th {\n",
       "        text-align: right;\n",
       "    }\n",
       "</style>\n",
       "<table border=\"1\" class=\"dataframe\">\n",
       "  <thead>\n",
       "    <tr style=\"text-align: right;\">\n",
       "      <th></th>\n",
       "      <th>Unnamed: 0</th>\n",
       "      <th>business_id</th>\n",
       "      <th>stars_x</th>\n",
       "      <th>Music</th>\n",
       "    </tr>\n",
       "  </thead>\n",
       "  <tbody>\n",
       "    <tr>\n",
       "      <th>0</th>\n",
       "      <td>1</td>\n",
       "      <td>SZU9c8V2GuREDN5KgyHFJw</td>\n",
       "      <td>5</td>\n",
       "      <td>{'dj': False, 'background_music': False, 'no_m...</td>\n",
       "    </tr>\n",
       "    <tr>\n",
       "      <th>1</th>\n",
       "      <td>2</td>\n",
       "      <td>eL4lyE7LNoXEMvpcJ8WNVw</td>\n",
       "      <td>3</td>\n",
       "      <td>{'dj': False}</td>\n",
       "    </tr>\n",
       "    <tr>\n",
       "      <th>2</th>\n",
       "      <td>3</td>\n",
       "      <td>SZU9c8V2GuREDN5KgyHFJw</td>\n",
       "      <td>5</td>\n",
       "      <td>{'dj': False}</td>\n",
       "    </tr>\n",
       "    <tr>\n",
       "      <th>3</th>\n",
       "      <td>4</td>\n",
       "      <td>SZU9c8V2GuREDN5KgyHFJw</td>\n",
       "      <td>3</td>\n",
       "      <td>{'dj': False, 'background_music': False, 'no_m...</td>\n",
       "    </tr>\n",
       "    <tr>\n",
       "      <th>4</th>\n",
       "      <td>5</td>\n",
       "      <td>SZU9c8V2GuREDN5KgyHFJw</td>\n",
       "      <td>5</td>\n",
       "      <td>{'dj': False, 'background_music': False, 'no_m...</td>\n",
       "    </tr>\n",
       "    <tr>\n",
       "      <th>...</th>\n",
       "      <td>...</td>\n",
       "      <td>...</td>\n",
       "      <td>...</td>\n",
       "      <td>...</td>\n",
       "    </tr>\n",
       "    <tr>\n",
       "      <th>27501</th>\n",
       "      <td>27502</td>\n",
       "      <td>sz5SMsTOTAshdfsaK98-TA</td>\n",
       "      <td>4</td>\n",
       "      <td>{'dj': False, 'live': False, 'jukebox': False,...</td>\n",
       "    </tr>\n",
       "    <tr>\n",
       "      <th>27502</th>\n",
       "      <td>27503</td>\n",
       "      <td>q-1ICFSqs2MwDGfe5tX-SQ</td>\n",
       "      <td>4</td>\n",
       "      <td>{'dj': False, 'live': False, 'jukebox': False,...</td>\n",
       "    </tr>\n",
       "    <tr>\n",
       "      <th>27503</th>\n",
       "      <td>27504</td>\n",
       "      <td>QLHgjBHBoeIUoEvIPvjHnw</td>\n",
       "      <td>4</td>\n",
       "      <td>{'dj': False, 'live': False, 'jukebox': False,...</td>\n",
       "    </tr>\n",
       "    <tr>\n",
       "      <th>27504</th>\n",
       "      <td>27505</td>\n",
       "      <td>krTxH1a9kzWgwvt3PVH8pQ</td>\n",
       "      <td>5</td>\n",
       "      <td>{'dj': False, 'live': False, 'jukebox': False,...</td>\n",
       "    </tr>\n",
       "    <tr>\n",
       "      <th>27505</th>\n",
       "      <td>27506</td>\n",
       "      <td>YiSr-W5BBX6uXnhWPxk82Q</td>\n",
       "      <td>5</td>\n",
       "      <td>{'dj': False, 'live': False, 'jukebox': False,...</td>\n",
       "    </tr>\n",
       "  </tbody>\n",
       "</table>\n",
       "<p>27506 rows × 4 columns</p>\n",
       "</div>"
      ],
      "text/plain": [
       "       Unnamed: 0             business_id  stars_x  \\\n",
       "0               1  SZU9c8V2GuREDN5KgyHFJw        5   \n",
       "1               2  eL4lyE7LNoXEMvpcJ8WNVw        3   \n",
       "2               3  SZU9c8V2GuREDN5KgyHFJw        5   \n",
       "3               4  SZU9c8V2GuREDN5KgyHFJw        3   \n",
       "4               5  SZU9c8V2GuREDN5KgyHFJw        5   \n",
       "...           ...                     ...      ...   \n",
       "27501       27502  sz5SMsTOTAshdfsaK98-TA        4   \n",
       "27502       27503  q-1ICFSqs2MwDGfe5tX-SQ        4   \n",
       "27503       27504  QLHgjBHBoeIUoEvIPvjHnw        4   \n",
       "27504       27505  krTxH1a9kzWgwvt3PVH8pQ        5   \n",
       "27505       27506  YiSr-W5BBX6uXnhWPxk82Q        5   \n",
       "\n",
       "                                                   Music  \n",
       "0      {'dj': False, 'background_music': False, 'no_m...  \n",
       "1                                          {'dj': False}  \n",
       "2                                          {'dj': False}  \n",
       "3      {'dj': False, 'background_music': False, 'no_m...  \n",
       "4      {'dj': False, 'background_music': False, 'no_m...  \n",
       "...                                                  ...  \n",
       "27501  {'dj': False, 'live': False, 'jukebox': False,...  \n",
       "27502  {'dj': False, 'live': False, 'jukebox': False,...  \n",
       "27503  {'dj': False, 'live': False, 'jukebox': False,...  \n",
       "27504  {'dj': False, 'live': False, 'jukebox': False,...  \n",
       "27505  {'dj': False, 'live': False, 'jukebox': False,...  \n",
       "\n",
       "[27506 rows x 4 columns]"
      ]
     },
     "execution_count": 2,
     "metadata": {},
     "output_type": "execute_result"
    }
   ],
   "source": [
    "data1 = pd.read_csv(\"data4.csv\")\n",
    "data1"
   ]
  },
  {
   "cell_type": "code",
   "execution_count": 3,
   "metadata": {},
   "outputs": [],
   "source": [
    "attri = data1['Music']\n",
    "df=pd.DataFrame(attri)\n",
    "n = data1[['business_id', 'stars_x']]\n",
    "a = df.loc[0]\n",
    "z = ast.literal_eval(a[\"Music\"])\n",
    "df1 = pd.DataFrame([z])"
   ]
  },
  {
   "cell_type": "code",
   "execution_count": 4,
   "metadata": {},
   "outputs": [],
   "source": [
    "data1 = pd.read_csv(\"data4.csv\")\n",
    "attri = data1['Music']\n",
    "df=pd.DataFrame(attri)\n",
    "n = data1[['business_id', 'stars_x']]\n",
    "f=df1\n",
    "for i in range (0,6001):\n",
    "    m = df.loc[i]\n",
    "    a = ast.literal_eval(m[\"Music\"])\n",
    "    df1 = pd.DataFrame([a])\n",
    "    f = pd.concat([df1,f], axis=0, ignore_index=True)\n",
    "    \n",
    "result1 = pd.concat([n, f], axis=1, join=\"inner\")"
   ]
  },
  {
   "cell_type": "code",
   "execution_count": 6,
   "metadata": {},
   "outputs": [],
   "source": [
    "for i in range (6001,12001):\n",
    "    m = df.loc[i]\n",
    "    a = ast.literal_eval(m[\"Music\"])\n",
    "    df1 = pd.DataFrame([a])\n",
    "    f = pd.concat([df1,f], axis=0, ignore_index=True)\n",
    "    \n",
    "result2 = pd.concat([n, f], axis=1, join=\"inner\")"
   ]
  },
  {
   "cell_type": "code",
   "execution_count": 7,
   "metadata": {},
   "outputs": [],
   "source": [
    "for i in range (12001,18001):\n",
    "    m = df.loc[i]\n",
    "    a = ast.literal_eval(m[\"Music\"])\n",
    "    df1 = pd.DataFrame([a])\n",
    "    f = pd.concat([df1,f], axis=0, ignore_index=True)\n",
    "    \n",
    "result3 = pd.concat([n, f], axis=1, join=\"inner\")"
   ]
  },
  {
   "cell_type": "code",
   "execution_count": 8,
   "metadata": {},
   "outputs": [],
   "source": [
    "for i in range (18001,24001):\n",
    "    m = df.loc[i]\n",
    "    a = ast.literal_eval(m[\"Music\"])\n",
    "    df1 = pd.DataFrame([a])\n",
    "    f = pd.concat([df1,f], axis=0, ignore_index=True)\n",
    "    \n",
    "result4 = pd.concat([n, f], axis=1, join=\"inner\")"
   ]
  },
  {
   "cell_type": "code",
   "execution_count": 9,
   "metadata": {},
   "outputs": [],
   "source": [
    "for i in range (24001,27506):\n",
    "    m = df.loc[i]\n",
    "    a = ast.literal_eval(m[\"Music\"])\n",
    "    df1 = pd.DataFrame([a])\n",
    "    f = pd.concat([df1,f], axis=0, ignore_index=True)\n",
    "    \n",
    "result5 = pd.concat([n, f], axis=1, join=\"inner\")"
   ]
  },
  {
   "cell_type": "code",
   "execution_count": 10,
   "metadata": {},
   "outputs": [],
   "source": [
    "result5.to_csv(\"music.csv\")"
   ]
  },
  {
   "cell_type": "code",
   "execution_count": null,
   "metadata": {},
   "outputs": [],
   "source": []
  }
 ],
 "metadata": {
  "kernelspec": {
   "display_name": "Python 3",
   "language": "python",
   "name": "python3"
  },
  "language_info": {
   "codemirror_mode": {
    "name": "ipython",
    "version": 3
   },
   "file_extension": ".py",
   "mimetype": "text/x-python",
   "name": "python",
   "nbconvert_exporter": "python",
   "pygments_lexer": "ipython3",
   "version": "3.8.3"
  }
 },
 "nbformat": 4,
 "nbformat_minor": 4
}
