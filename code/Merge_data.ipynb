{
 "cells": [
  {
   "cell_type": "code",
   "execution_count": 1,
   "id": "bcac71a3",
   "metadata": {},
   "outputs": [],
   "source": [
    "import pandas as pd"
   ]
  },
  {
   "cell_type": "code",
   "execution_count": 2,
   "id": "146b2be8",
   "metadata": {},
   "outputs": [],
   "source": [
    "df = pd.concat(map(pd.read_csv, ['bars_review_1.csv', 'bars_review_2.csv', 'bars_review_3.csv', 'bars_review_4.csv', 'bars_review_5.csv','bars_list.csv', 'bars_tip.csv']), ignore_index=True).drop(columns=['Unnamed: 0'])"
   ]
  },
  {
   "cell_type": "code",
   "execution_count": 4,
   "id": "587098b9",
   "metadata": {},
   "outputs": [],
   "source": [
    "n = len(df)\n",
    "\n",
    "df_1 = df.iloc[:int(n/5)]\n",
    "df_2 = df.iloc[int(n/5):2*int(n/5)]\n",
    "df_3 = df.iloc[2*int(n/5):3*int(n/5)]\n",
    "df_4 = df.iloc[3*int(n/5):4*int(n/5)]\n",
    "df_5 = df.iloc[4*int(n/5):]"
   ]
  },
  {
   "cell_type": "code",
   "execution_count": 5,
   "id": "c6ff59bb",
   "metadata": {},
   "outputs": [],
   "source": [
    "df_1.to_csv(\"bars_1.csv\")\n",
    "df_2.to_csv(\"bars_2.csv\") \n",
    "df_3.to_csv(\"bars_3.csv\") \n",
    "df_4.to_csv(\"bars_4.csv\") \n",
    "df_5.to_csv(\"bars_5.csv\")"
   ]
  },
  {
   "cell_type": "code",
   "execution_count": null,
   "id": "0eb81259",
   "metadata": {},
   "outputs": [],
   "source": []
  }
 ],
 "metadata": {
  "kernelspec": {
   "display_name": "Python 3 (ipykernel)",
   "language": "python",
   "name": "python3"
  },
  "language_info": {
   "codemirror_mode": {
    "name": "ipython",
    "version": 3
   },
   "file_extension": ".py",
   "mimetype": "text/x-python",
   "name": "python",
   "nbconvert_exporter": "python",
   "pygments_lexer": "ipython3",
   "version": "3.9.13"
  }
 },
 "nbformat": 4,
 "nbformat_minor": 5
}
